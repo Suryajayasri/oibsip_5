{
 "cells": [
  {
   "cell_type": "code",
   "execution_count": 1,
   "id": "c7f4b69f",
   "metadata": {},
   "outputs": [],
   "source": [
    "import pandas as pd\n",
    "import numpy as np\n",
    "from sklearn.model_selection import train_test_split\n",
    "from sklearn.linear_model import LinearRegression\n",
    "import matplotlib.pyplot as plt\n",
    "\n",
    "# Loading the dataset\n",
    "df = pd.read_csv(\"C:\\\\Users\\\\gsury\\\\Downloads\\Advertising.csv\")\n",
    "\n",
    "X = df.iloc[:,:-1].values \n",
    "y = df.iloc[:,-1].values \n"
   ]
  },
  {
   "cell_type": "code",
   "execution_count": 13,
   "id": "8c55c02f",
   "metadata": {},
   "outputs": [
    {
     "data": {
      "text/html": [
       "<div>\n",
       "<style scoped>\n",
       "    .dataframe tbody tr th:only-of-type {\n",
       "        vertical-align: middle;\n",
       "    }\n",
       "\n",
       "    .dataframe tbody tr th {\n",
       "        vertical-align: top;\n",
       "    }\n",
       "\n",
       "    .dataframe thead th {\n",
       "        text-align: right;\n",
       "    }\n",
       "</style>\n",
       "<table border=\"1\" class=\"dataframe\">\n",
       "  <thead>\n",
       "    <tr style=\"text-align: right;\">\n",
       "      <th></th>\n",
       "      <th>Unnamed: 0</th>\n",
       "      <th>TV</th>\n",
       "      <th>Radio</th>\n",
       "      <th>Newspaper</th>\n",
       "      <th>Sales</th>\n",
       "    </tr>\n",
       "  </thead>\n",
       "  <tbody>\n",
       "    <tr>\n",
       "      <th>0</th>\n",
       "      <td>1</td>\n",
       "      <td>230.1</td>\n",
       "      <td>37.8</td>\n",
       "      <td>69.2</td>\n",
       "      <td>22.1</td>\n",
       "    </tr>\n",
       "    <tr>\n",
       "      <th>1</th>\n",
       "      <td>2</td>\n",
       "      <td>44.5</td>\n",
       "      <td>39.3</td>\n",
       "      <td>45.1</td>\n",
       "      <td>10.4</td>\n",
       "    </tr>\n",
       "    <tr>\n",
       "      <th>2</th>\n",
       "      <td>3</td>\n",
       "      <td>17.2</td>\n",
       "      <td>45.9</td>\n",
       "      <td>69.3</td>\n",
       "      <td>9.3</td>\n",
       "    </tr>\n",
       "    <tr>\n",
       "      <th>3</th>\n",
       "      <td>4</td>\n",
       "      <td>151.5</td>\n",
       "      <td>41.3</td>\n",
       "      <td>58.5</td>\n",
       "      <td>18.5</td>\n",
       "    </tr>\n",
       "    <tr>\n",
       "      <th>4</th>\n",
       "      <td>5</td>\n",
       "      <td>180.8</td>\n",
       "      <td>10.8</td>\n",
       "      <td>58.4</td>\n",
       "      <td>12.9</td>\n",
       "    </tr>\n",
       "  </tbody>\n",
       "</table>\n",
       "</div>"
      ],
      "text/plain": [
       "   Unnamed: 0     TV  Radio  Newspaper  Sales\n",
       "0           1  230.1   37.8       69.2   22.1\n",
       "1           2   44.5   39.3       45.1   10.4\n",
       "2           3   17.2   45.9       69.3    9.3\n",
       "3           4  151.5   41.3       58.5   18.5\n",
       "4           5  180.8   10.8       58.4   12.9"
      ]
     },
     "execution_count": 13,
     "metadata": {},
     "output_type": "execute_result"
    }
   ],
   "source": [
    "df.head()"
   ]
  },
  {
   "cell_type": "code",
   "execution_count": 15,
   "id": "19a8c535",
   "metadata": {},
   "outputs": [
    {
     "data": {
      "text/plain": [
       "Unnamed: 0    0\n",
       "TV            0\n",
       "Radio         0\n",
       "Newspaper     0\n",
       "Sales         0\n",
       "dtype: int64"
      ]
     },
     "execution_count": 15,
     "metadata": {},
     "output_type": "execute_result"
    }
   ],
   "source": [
    "df.isnull().sum()"
   ]
  },
  {
   "cell_type": "code",
   "execution_count": 17,
   "id": "4fdb85d1",
   "metadata": {},
   "outputs": [
    {
     "data": {
      "text/plain": [
       "<AxesSubplot:>"
      ]
     },
     "execution_count": 17,
     "metadata": {},
     "output_type": "execute_result"
    },
    {
     "data": {
      "image/png": "[encoded data removed]",
      "text/plain": [
       "<Figure size 432x288 with 2 Axes>"
      ]
     },
     "metadata": {
      "needs_background": "light"
     },
     "output_type": "display_data"
    }
   ],
   "source": [
    "import seaborn as sns\n",
    "sns.heatmap(df.corr(),annot=True)"
   ]
  },
  {
   "cell_type": "code",
   "execution_count": 18,
   "id": "4dd817a2",
   "metadata": {},
   "outputs": [
    {
     "data": {
      "text/plain": [
       "<seaborn.axisgrid.FacetGrid at 0x245b814a730>"
      ]
     },
     "execution_count": 18,
     "metadata": {},
     "output_type": "execute_result"
    },
    {
     "data": {
      "image/png": "[encoded data removed]",
      "text/plain": [
       "<Figure size 360x360 with 1 Axes>"
      ]
     },
     "metadata": {
      "needs_background": "light"
     },
     "output_type": "display_data"
    }
   ],
   "source": [
    "sns.lmplot(data=df,x=\"TV\",y=\"Sales\")"
   ]
  },
  {
   "cell_type": "code",
   "execution_count": 19,
   "id": "65386d54",
   "metadata": {},
   "outputs": [
    {
     "data": {
      "text/plain": [
       "<seaborn.axisgrid.FacetGrid at 0x245b81be3a0>"
      ]
     },
     "execution_count": 19,
     "metadata": {},
     "output_type": "execute_result"
    },
    {
     "data": {
      "image/png": "[encoded data removed]",
      "text/plain": [
       "<Figure size 360x360 with 1 Axes>"
      ]
     },
     "metadata": {
      "needs_background": "light"
     },
     "output_type": "display_data"
    }
   ],
   "source": [
    "sns.lmplot(data=df,x=\"Radio\",y=\"Sales\")"
   ]
  },
  {
   "cell_type": "code",
   "execution_count": 20,
   "id": "fc498f0c",
   "metadata": {},
   "outputs": [
    {
     "data": {
      "text/plain": [
       "<seaborn.axisgrid.FacetGrid at 0x245b826d190>"
      ]
     },
     "execution_count": 20,
     "metadata": {},
     "output_type": "execute_result"
    },
    {
     "data": {
      "image/png": "[encoded data removed]",
      "text/plain": [
       "<Figure size 360x360 with 1 Axes>"
      ]
     },
     "metadata": {
      "needs_background": "light"
     },
     "output_type": "display_data"
    }
   ],
   "source": [
    "sns.lmplot(data=df,x=\"Newspaper\",y=\"Sales\")"
   ]
  },
  {
   "cell_type": "code",
   "execution_count": 2,
   "id": "d0b14d9a",
   "metadata": {},
   "outputs": [],
   "source": [
    "# Spliting the dataset into training and testing sets\n",
    "X_train, X_test, y_train, y_test = train_test_split(X, y, test_size=0.2, random_state=42)\n",
    "\n",
    "# Initializing the Linear Regression model\n",
    "model = LinearRegression()\n"
   ]
  },
  {
   "cell_type": "code",
   "execution_count": 3,
   "id": "f5bb1262",
   "metadata": {},
   "outputs": [
    {
     "name": "stdout",
     "output_type": "stream",
     "text": [
      "[[ 80.  116.    7.7  23.1]\n",
      " [198.  177.    9.3   6.4]\n",
      " [ 39.   43.1  26.7  35.1]\n",
      " [ 25.   62.3  12.6  18.3]\n",
      " [123.  224.    2.4  15.6]\n",
      " [196.   38.2   3.7  13.8]\n",
      " [ 30.   70.6  16.   40.8]\n",
      " [ 20.  147.3  23.9  19.1]\n",
      " [144.  104.6   5.7  34.4]\n",
      " [ 87.   76.3  27.5  16. ]\n",
      " [115.   78.2  46.8  34.5]\n",
      " [174.  168.4   7.1  12.8]\n",
      " [  6.    8.7  48.9  75. ]\n",
      " [127.    7.8  38.9  50.6]\n",
      " [118.   76.4   0.8  14.8]\n",
      " [ 74.  129.4   5.7  31.3]\n",
      " [141.   73.4  17.   12.9]\n",
      " [ 99.  289.7  42.3  51.2]\n",
      " [173.   19.6  20.1  17. ]\n",
      " [ 97.  197.6   3.5   5.9]\n",
      " [170.  284.3  10.6   6.4]\n",
      " [ 98.  184.9  21.   22. ]\n",
      " [ 32.  112.9  17.4  38.6]\n",
      " [ 13.   23.8  35.1  65.9]\n",
      " [ 36.  290.7   4.1   8.5]\n",
      " [120.   19.4  16.   22.3]\n",
      " [ 43.  293.6  27.7   1.8]\n",
      " [190.   18.7  12.1  23.4]\n",
      " [ 91.  134.3   4.9   9.3]\n",
      " [137.   25.6  39.    9.3]\n",
      " [ 52.  100.4   9.6   3.6]\n",
      " [128.   80.2   0.    9.2]\n",
      " [163.  188.4  18.1  25.6]\n",
      " [ 42.  177.   33.4  38.7]\n",
      " [119.  125.7  36.9  79.2]\n",
      " [114.  209.6  20.6  10.7]\n",
      " [ 27.  142.9  29.3  12.6]\n",
      " [140.  184.9  43.9   1.7]\n",
      " [101.  222.4   4.3  49.8]\n",
      " [112.  241.7  38.   23.2]\n",
      " [  3.   17.2  45.9  69.3]\n",
      " [ 78.  120.5  28.5  14.2]\n",
      " [ 47.   89.7   9.9  35.7]\n",
      " [188.  191.1  28.7  18.2]\n",
      " [192.   75.5  10.8   6. ]\n",
      " [ 86.  193.2  18.4  65.7]\n",
      " [162.   85.7  35.8  49.3]\n",
      " [ 37.  266.9  43.8   5. ]\n",
      " [191.   39.5  41.1   5.8]\n",
      " [ 62.  261.3  42.7  54.7]\n",
      " [ 23.   13.2  15.9  49.6]\n",
      " [142.  193.7  35.4  75.6]\n",
      " [102.  296.4  36.3 100.9]\n",
      " [ 34.  265.6  20.    0.3]\n",
      " [ 12.  214.7  24.    4. ]\n",
      " [195.  149.7  35.6   6. ]\n",
      " [160.  131.7  18.4  34.6]\n",
      " [  7.   57.5  32.8  23.5]\n",
      " [ 28.  240.1  16.7  22.9]\n",
      " [121.  141.3  26.8  46.2]\n",
      " [  5.  180.8  10.8  58.4]\n",
      " [ 33.   97.2   1.5  30. ]\n",
      " [143.  220.5  33.2  37.9]\n",
      " [146.  140.3   1.9   9. ]\n",
      " [110.  255.4  26.9   5.5]\n",
      " [145.   96.2  14.8  38.9]\n",
      " [ 11.   66.1   5.8  24.2]\n",
      " [ 63.  239.3  15.5  27.3]\n",
      " [113.  175.7  15.4   2.4]\n",
      " [147.  240.1   7.3   8.7]\n",
      " [167.   17.9  37.6  21.6]\n",
      " [  1.  230.1  37.8  69.2]\n",
      " [199.  283.6  42.   66.2]\n",
      " [154.  171.3  39.7  37.7]\n",
      " [ 71.  199.1  30.6  38.7]\n",
      " [124.  123.1  34.6  12.4]\n",
      " [ 65.  131.1  42.8  28.9]\n",
      " [ 45.   25.1  25.7  43.3]\n",
      " [164.  163.5  36.8   7.4]\n",
      " [ 29.  248.8  27.1  22.9]\n",
      " [ 41.  202.5  22.3  31.6]\n",
      " [109.   13.1   0.4  25.6]\n",
      " [156.    4.1  11.6   5.7]\n",
      " [157.   93.9  43.5  50.5]\n",
      " [ 26.  262.9   3.5  19.5]\n",
      " [ 24.  228.3  16.9  26.2]\n",
      " [185.  253.8  21.3  30. ]\n",
      " [148.  243.2  49.   44.3]\n",
      " [ 82.  239.8   4.1  36.9]\n",
      " [ 40.  228.   37.7  32. ]\n",
      " [169.  215.4  23.6  57.6]\n",
      " [ 48.  239.9  41.5  18.5]\n",
      " [ 95.  107.4  14.   10.9]\n",
      " [155.  187.8  21.1   9.5]\n",
      " [ 44.  206.9   8.4  26.4]\n",
      " [139.   43.   25.9  20.5]\n",
      " [  4.  151.5  41.3  58.5]\n",
      " [106.  137.9  46.4  59. ]\n",
      " [ 54.  182.6  46.2  58.7]\n",
      " [134.  219.8  33.5  45.1]\n",
      " [181.  156.6   2.6   8.3]\n",
      " [179.  276.7   2.3  23.7]\n",
      " [186.  205.   45.1  19.6]\n",
      " [ 50.   66.9  11.7  36.8]\n",
      " [ 81.   76.4  26.7  22.3]\n",
      " [ 35.   95.7   1.4   7.4]\n",
      " [  8.  120.2  19.6  11.6]\n",
      " [111.  225.8   8.2  56.5]\n",
      " [ 92.   28.6   1.5  33. ]\n",
      " [ 84.   68.4  44.5  35.6]\n",
      " [177.  248.4  30.2  20.3]\n",
      " [182.  218.5   5.4  27.4]\n",
      " [ 90.  109.8  47.8  51.4]\n",
      " [  9.    8.6   2.1   1. ]\n",
      " [ 14.   97.5   7.6   7.2]\n",
      " [ 60.  210.7  29.5   9.3]\n",
      " [172.  164.5  20.9  47.4]\n",
      " [132.  265.2   2.9  43. ]\n",
      " [ 18.  281.4  39.6  55.8]\n",
      " [ 73.   26.8  33.   19.3]\n",
      " [176.  276.9  48.9  41.8]\n",
      " [135.   36.9  38.6  65.6]\n",
      " [168.  206.8   5.2  19.4]\n",
      " [184.  287.6  43.   71.8]\n",
      " [ 64.  102.7  29.6   8.4]\n",
      " [ 55.  262.7  28.8  15.9]\n",
      " [108.   90.4   0.3  23.2]\n",
      " [ 51.  199.8   3.1  34.6]\n",
      " [197.   94.2   4.9   8.1]\n",
      " [ 59.  210.8  49.6  37.7]\n",
      " [ 49.  227.2  15.8  49.9]\n",
      " [ 89.   88.3  25.5  73.4]\n",
      " [ 22.  237.4   5.1  23.5]\n",
      " [ 58.  136.2  19.2  16.6]\n",
      " [161.  172.5  18.1  30.7]\n",
      " [193.   17.2   4.1  31.6]\n",
      " [130.   59.6  12.   43.1]\n",
      " [ 38.   74.7  49.4  45.7]\n",
      " [158.  149.8   1.3  24.3]\n",
      " [194.  166.8  42.    3.6]\n",
      " [  2.   44.5  39.3  45.1]\n",
      " [ 53.  216.4  41.7  39.6]\n",
      " [150.   44.7  25.8  20.6]\n",
      " [131.    0.7  39.6   8.7]\n",
      " [152.  121.    8.4  48.7]\n",
      " [104.  187.9  17.2  17.9]\n",
      " [100.  135.2  41.7  45.9]\n",
      " [117.  139.2  14.3  25.6]\n",
      " [ 88.  110.7  40.6  63.2]\n",
      " [ 75.  213.4  24.6  13.1]\n",
      " [122.   18.8  21.7  50.4]\n",
      " [200.  232.1   8.6   8.7]\n",
      " [ 21.  218.4  27.7  53.4]\n",
      " [189.  286.   13.9   3.7]\n",
      " [ 72.  109.8  14.3  31.7]\n",
      " [107.   25.   11.   29.7]\n",
      " [ 15.  204.1  32.9  46. ]\n",
      " [ 93.  217.7  33.5  59. ]\n",
      " [180.  165.6  10.   17.6]\n",
      " [103.  280.2  10.1  21.4]]\n"
     ]
    }
   ],
   "source": [
    "print(X_train)"
   ]
  },
  {
   "cell_type": "code",
   "execution_count": 4,
   "id": "d15a7fa3",
   "metadata": {},
   "outputs": [
    {
     "name": "stdout",
     "output_type": "stream",
     "text": [
      "[[ 96.  163.3  31.6  52.9]\n",
      " [ 16.  195.4  47.7  52.9]\n",
      " [ 31.  292.9  28.3  43.2]\n",
      " [159.   11.7  36.9  45.2]\n",
      " [129.  220.3  49.    3.2]\n",
      " [116.   75.1  35.   52.7]\n",
      " [ 70.  216.8  43.9  27.2]\n",
      " [171.   50.   11.6  18.4]\n",
      " [175.  222.4   3.4  13.1]\n",
      " [ 46.  175.1  22.5  31.5]\n",
      " [ 67.   31.5  24.6   2.2]\n",
      " [183.   56.2   5.7  29.7]\n",
      " [166.  234.5   3.4  84.8]\n",
      " [ 79.    5.4  29.9   9.4]\n",
      " [187.  139.5   2.1  26.6]\n",
      " [178.  170.2   7.8  35.2]\n",
      " [ 57.    7.3  28.1  41.4]\n",
      " [153.  197.6  23.3  14.2]\n",
      " [ 83.   75.3  20.3  32.5]\n",
      " [ 69.  237.4  27.5  11. ]\n",
      " [125.  229.5  32.3  74.2]\n",
      " [ 17.   67.8  36.6 114. ]\n",
      " [149.   38.   40.3  11.9]\n",
      " [ 94.  250.9  36.5  72.3]\n",
      " [ 66.   69.    9.3   0.9]\n",
      " [ 61.   53.5   2.   21.4]\n",
      " [ 85.  213.5  43.   33.8]\n",
      " [ 68.  139.3  14.5  10.2]\n",
      " [126.   87.2  11.8  25.9]\n",
      " [133.    8.4  27.2   2.1]\n",
      " [ 10.  199.8   2.6  21.2]\n",
      " [ 19.   69.2  20.5  18.3]\n",
      " [ 56.  198.9  49.4  60. ]\n",
      " [ 76.   16.9  43.7  89.4]\n",
      " [151.  280.7  13.9  37. ]\n",
      " [105.  238.2  34.3   5.3]\n",
      " [136.   48.3  47.    8.5]\n",
      " [138.  273.7  28.9  59.7]\n",
      " [165.  117.2  14.7   5.4]\n",
      " [ 77.   27.5   1.6  20.7]]\n"
     ]
    }
   ],
   "source": [
    "print(X_test)"
   ]
  },
  {
   "cell_type": "code",
   "execution_count": 6,
   "id": "98e184bd",
   "metadata": {},
   "outputs": [
    {
     "name": "stdout",
     "output_type": "stream",
     "text": [
      "[11.  12.8 10.1  9.7 11.6  7.6 10.5 14.6 10.4 12.  14.6 11.7  7.2  6.6\n",
      "  9.4 11.  10.9 25.4  7.6 11.7 15.  15.5 11.9  9.2 12.8  6.6 20.7  6.7\n",
      " 11.2  9.5 10.7  8.8 14.9 17.1 15.9 15.9 15.  20.7 11.7 21.8  9.3 14.2\n",
      " 10.6 17.3  9.9 15.2 13.3 25.4 10.8 24.2  5.6 19.2 23.8 17.4 17.4 17.3\n",
      " 12.9 11.8 15.9 15.5 12.9  9.6 20.1 10.3 19.8 11.4  8.6 15.7 14.1 13.2\n",
      "  8.  22.1 25.5 19.  18.3 15.2 18.   8.5 18.  18.9 16.6  5.3  3.2 15.3\n",
      " 12.  15.5 17.6 25.4 12.3 21.5 17.1 23.2 11.5 15.6 12.9  9.6 18.5 19.2\n",
      " 21.2 19.6 10.5 11.8 22.6  9.7 11.8  9.5 13.2 13.4  7.3 13.6 20.2 12.2\n",
      " 16.7  4.8  9.7 18.4 14.5 12.7 24.4  8.8 27.  10.8 12.2 26.2 14.  20.2\n",
      "  8.7 11.4  9.7 23.8 14.8 12.9 12.5 13.2 14.4  5.9  9.7 14.7 10.1 19.6\n",
      " 10.4 22.6 10.1  1.6 11.6 14.7 17.2 12.2 16.  17.   7.  13.4 18.  15.9\n",
      " 12.4  7.2 19.  19.4 12.6 14.8]\n"
     ]
    }
   ],
   "source": [
    "print(y_train)"
   ]
  },
  {
   "cell_type": "code",
   "execution_count": 7,
   "id": "8c9dccb6",
   "metadata": {},
   "outputs": [
    {
     "name": "stdout",
     "output_type": "stream",
     "text": [
      "[16.9 22.4 21.4  7.3 24.7 12.6 22.3  8.4 11.5 14.9  9.5  8.7 11.9  5.3\n",
      " 10.3 11.7  5.5 16.6 11.3 18.9 19.7 12.5 10.9 22.2  9.3  8.1 21.7 13.4\n",
      " 10.6  5.7 10.6 11.3 23.7  8.7 16.1 20.7 11.6 20.8 11.9  6.9]\n"
     ]
    }
   ],
   "source": [
    "print(y_test)"
   ]
  },
  {
   "cell_type": "code",
   "execution_count": 8,
   "id": "2e273f2c",
   "metadata": {},
   "outputs": [
    {
     "data": {
      "text/plain": [
       "LinearRegression()"
      ]
     },
     "execution_count": 8,
     "metadata": {},
     "output_type": "execute_result"
    }
   ],
   "source": [
    "# Training the model on the training data\n",
    "model.fit(X_train, y_train)\n"
   ]
  },
  {
   "cell_type": "code",
   "execution_count": 9,
   "id": "de7aaaf1",
   "metadata": {},
   "outputs": [],
   "source": [
    "y_pred = model.predict(X_test)\n"
   ]
  },
  {
   "cell_type": "code",
   "execution_count": 10,
   "id": "5230925c",
   "metadata": {},
   "outputs": [
    {
     "name": "stdout",
     "output_type": "stream",
     "text": [
      "[16.41227699 20.84319293 21.51186915 10.65309994 22.12405753 13.12383506\n",
      " 21.03748883  7.50385439 13.64787029 15.12040886  9.02055551  6.70666642\n",
      " 14.40155146  8.88609041  9.74353333 12.21551975  8.71370868 16.2941451\n",
      " 10.26802337 18.80498245 19.58864662 13.22318303 12.3647867  21.31473607\n",
      "  7.79734749  5.78189965 20.74934811 11.95476656  9.199109    8.52178704\n",
      " 12.40431294  9.94865202 21.36880272 12.25374832 18.29943527 20.13347356\n",
      " 14.07464638 20.88594679 11.05214979  4.55168744]\n"
     ]
    }
   ],
   "source": [
    "print(y_pred)"
   ]
  },
  {
   "cell_type": "code",
   "execution_count": 11,
   "id": "7259f9d9",
   "metadata": {},
   "outputs": [
    {
     "name": "stdout",
     "output_type": "stream",
     "text": [
      "Mean Squared Error: 3.20\n",
      "R-squared: 0.90\n"
     ]
    }
   ],
   "source": [
    "from sklearn.metrics import mean_squared_error,r2_score\n",
    "mse = mean_squared_error(y_test, y_pred)\n",
    "r2 = r2_score(y_test, y_pred)\n",
    "\n",
    "print(f\"Mean Squared Error: {mse:.2f}\")\n",
    "print(f\"R-squared: {r2:.2f}\")\n"
   ]
  },
  {
   "cell_type": "code",
   "execution_count": 12,
   "id": "aa1a16aa",
   "metadata": {},
   "outputs": [
    {
     "data": {
      "image/png": "[encoded data removed]",
      "text/plain": [
       "<Figure size 720x432 with 1 Axes>"
      ]
     },
     "metadata": {
      "needs_background": "light"
     },
     "output_type": "display_data"
    }
   ],
   "source": [
    "# Ploting actual vs. predicted sales\n",
    "plt.figure(figsize=(10, 6))\n",
    "plt.scatter(y_test, y_pred)\n",
    "plt.xlabel('Actual Sales')\n",
    "plt.ylabel('Predicted Sales')\n",
    "plt.title('Actual vs. Predicted Sales')\n",
    "plt.show()\n"
   ]
  },
  {
   "cell_type": "code",
   "execution_count": null,
   "id": "8927719a",
   "metadata": {},
   "outputs": [],
   "source": []
  }
 ],
 "metadata": {
  "kernelspec": {
   "display_name": "Python 3 (ipykernel)",
   "language": "python",
   "name": "python3"
  },
  "language_info": {
   "codemirror_mode": {
    "name": "ipython",
    "version": 3
   },
   "file_extension": ".py",
   "mimetype": "text/x-python",
   "name": "python",
   "nbconvert_exporter": "python",
   "pygments_lexer": "ipython3",
   "version": "3.9.12"
  }
 },
 "nbformat": 4,
 "nbformat_minor": 5
}
